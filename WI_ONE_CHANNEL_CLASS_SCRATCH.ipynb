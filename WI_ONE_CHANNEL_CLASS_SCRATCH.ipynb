{
  "nbformat": 4,
  "nbformat_minor": 0,
  "metadata": {
    "colab": {
      "name": "WI_ONE_CHANNEL_CLASS_SCRATCH.ipynb",
      "provenance": [],
      "collapsed_sections": [],
      "machine_shape": "hm",
      "authorship_tag": "ABX9TyOeayBLqRtipFIOrEK9DYmL",
      "include_colab_link": true
    },
    "kernelspec": {
      "name": "python3",
      "display_name": "Python 3"
    },
    "language_info": {
      "name": "python"
    },
    "accelerator": "GPU"
  },
  "cells": [
    {
      "cell_type": "markdown",
      "metadata": {
        "id": "view-in-github",
        "colab_type": "text"
      },
      "source": [
        "<a href=\"https://colab.research.google.com/github/agarr3/BertLong/blob/master/WI_ONE_CHANNEL_CLASS_SCRATCH.ipynb\" target=\"_parent\"><img src=\"https://colab.research.google.com/assets/colab-badge.svg\" alt=\"Open In Colab\"/></a>"
      ]
    },
    {
      "cell_type": "code",
      "metadata": {
        "id": "Er3dkSvCNWw7"
      },
      "source": [
        "import numpy as np # linear algebra\n",
        "import pandas as pd # data processing, CSV file I/O (e.g. pd.read_csv)\n",
        "import os\n",
        "from tqdm import tqdm_notebook as tqdm\n",
        "from sklearn.preprocessing import LabelEncoder\n",
        "from PIL import Image\n",
        "import matplotlib.pyplot as plt\n",
        "import torch\n",
        "# Neural networks can be constructed using the torch.nn package.\n",
        "import torch.nn as nn\n",
        "import torch.nn.functional as F\n",
        "import torch.optim as optim\n",
        "from torch.utils.data.sampler import SubsetRandomSampler\n",
        "from torch.utils.data import Dataset\n",
        "import torchvision\n",
        "import torchvision.transforms as transforms\n",
        "\n",
        "import IPython.display as ipd\n",
        "\n",
        "import random"
      ],
      "execution_count": 1,
      "outputs": []
    },
    {
      "cell_type": "code",
      "metadata": {
        "id": "bNqpIVMZNjL4",
        "colab": {
          "base_uri": "https://localhost:8080/"
        },
        "outputId": "5f90660a-8967-4df2-8c3e-ad8eaa294d1f"
      },
      "source": [
        "device = torch.device(\"cuda:0\" if torch.cuda.is_available() else \"cpu\")\n",
        "\n",
        "# Assuming that we are on a CUDA machine, this should print a CUDA device:\n",
        "\n",
        "print(device)\n",
        "\n",
        "#settings\n",
        "batch_size = 128\n",
        "validation_split = .3\n",
        "shuffle_dataset = True\n",
        "random_seed= 42\n",
        "\n",
        "criterion = nn.CrossEntropyLoss()\n",
        "\n",
        "\n",
        "n_epochs = 30\n",
        "print_every = 1\n",
        "\n",
        "BASE_PATH = \"/content/gdrive/My Drive/vajra/WI_CLASSIFIER/\""
      ],
      "execution_count": 2,
      "outputs": [
        {
          "output_type": "stream",
          "name": "stdout",
          "text": [
            "cuda:0\n"
          ]
        }
      ]
    },
    {
      "cell_type": "code",
      "metadata": {
        "id": "8HiwoaWykxXa",
        "colab": {
          "base_uri": "https://localhost:8080/"
        },
        "outputId": "8b427ffd-59b1-4247-9d03-78d7ce7dd002"
      },
      "source": [
        "from google.colab import drive\n",
        "drive.mount('/content/gdrive')"
      ],
      "execution_count": 3,
      "outputs": [
        {
          "output_type": "stream",
          "name": "stdout",
          "text": [
            "Mounted at /content/gdrive\n"
          ]
        }
      ]
    },
    {
      "cell_type": "code",
      "metadata": {
        "id": "Wm80GjHXq8_u"
      },
      "source": [
        "# DATA_BASE_PATH = \"/content/gdrive/My Drive/Kaggle/GTZAN/Data/\"\n",
        "# DATA_SONG_DIR = \"genres_original\"\n",
        "# DATA_IMG_DIR = \"images_original\"\n",
        "\n",
        "# image = []\n",
        "# labels = []\n",
        "# songs = []\n",
        "\n",
        "# for r,d, fileList in os.walk(DATA_BASE_PATH + DATA_SONG_DIR):\n",
        "#   for file in fileList:\n",
        "#     pre, ext = os.path.splitext(file)\n",
        "#     # print(pre)\n",
        "#     # print(file)\n",
        "#     dir = r.split(\"/\")[-1]\n",
        "#     labels.append(dir)\n",
        "#     # image.append(os.path.join(DATA_BASE_PATH, DATA_IMG_DIR, r.split(\"/\")[-1], pre.replace(\".\",\"\")+\".png\"))\n",
        "#     # songs.append(os.path.join(r,file))\n",
        "#     image.append(pre.replace(\".\",\"\")+\".png\")\n",
        "#     songs.append(file)\n",
        "\n",
        "\n",
        "# data = {'Images':image, \"songs\" :songs,'labels':labels} \n",
        "# data = pd.DataFrame(data) \n",
        "# data.head()"
      ],
      "execution_count": null,
      "outputs": []
    },
    {
      "cell_type": "code",
      "metadata": {
        "id": "VHJ85uiQb6hN",
        "colab": {
          "base_uri": "https://localhost:8080/",
          "height": 221
        },
        "outputId": "e94a6f18-9408-410d-8387-dd0a43ec0b73"
      },
      "source": [
        "DATA_BASE_PATH = \"/content/gdrive/\"\n",
        "DATA_SONG_DIR = \"My Drive\"\n",
        "DATA_IMG_DIR = \"My Drive\"\n",
        "\n",
        "files = []\n",
        "exclusion = [\"098567.npy\",\"098569.npy\", '098565.npy']\n",
        "for r,d, fileList in os.walk(\"/content/gdrive/My Drive/Western_numpy\"):\n",
        "  for file in fileList:\n",
        "    if(file not in exclusion):\n",
        "      files.append([file,file, \"Western_numpy\"])\n",
        "    else:\n",
        "      print(file)\n",
        "\n",
        "random.seed(1234)\n",
        "files = random.sample(files, 2008)\n",
        "\n",
        "for r,d, fileList in os.walk(\"/content/gdrive/My Drive/Indian_numpy\"):\n",
        "  for file in fileList:\n",
        "    if(True):\n",
        "      files.append([file,file, \"Indian_numpy\"])\n",
        "    else:\n",
        "      print(file)\n",
        "\n",
        "data = pd.DataFrame(files, columns=['Images','songs','labels'])\n",
        "#data = data.sample(frac=1).reset_index(drop=True)\n",
        "\n",
        "print(len(data.index))\n",
        "data.head()"
      ],
      "execution_count": 5,
      "outputs": [
        {
          "output_type": "stream",
          "name": "stdout",
          "text": [
            "4016\n"
          ]
        },
        {
          "output_type": "execute_result",
          "data": {
            "text/html": [
              "<div>\n",
              "<style scoped>\n",
              "    .dataframe tbody tr th:only-of-type {\n",
              "        vertical-align: middle;\n",
              "    }\n",
              "\n",
              "    .dataframe tbody tr th {\n",
              "        vertical-align: top;\n",
              "    }\n",
              "\n",
              "    .dataframe thead th {\n",
              "        text-align: right;\n",
              "    }\n",
              "</style>\n",
              "<table border=\"1\" class=\"dataframe\">\n",
              "  <thead>\n",
              "    <tr style=\"text-align: right;\">\n",
              "      <th></th>\n",
              "      <th>Images</th>\n",
              "      <th>songs</th>\n",
              "      <th>labels</th>\n",
              "    </tr>\n",
              "  </thead>\n",
              "  <tbody>\n",
              "    <tr>\n",
              "      <th>0</th>\n",
              "      <td>029351.npy</td>\n",
              "      <td>029351.npy</td>\n",
              "      <td>Western_numpy</td>\n",
              "    </tr>\n",
              "    <tr>\n",
              "      <th>1</th>\n",
              "      <td>093716.npy</td>\n",
              "      <td>093716.npy</td>\n",
              "      <td>Western_numpy</td>\n",
              "    </tr>\n",
              "    <tr>\n",
              "      <th>2</th>\n",
              "      <td>143217.npy</td>\n",
              "      <td>143217.npy</td>\n",
              "      <td>Western_numpy</td>\n",
              "    </tr>\n",
              "    <tr>\n",
              "      <th>3</th>\n",
              "      <td>131912.npy</td>\n",
              "      <td>131912.npy</td>\n",
              "      <td>Western_numpy</td>\n",
              "    </tr>\n",
              "    <tr>\n",
              "      <th>4</th>\n",
              "      <td>147059.npy</td>\n",
              "      <td>147059.npy</td>\n",
              "      <td>Western_numpy</td>\n",
              "    </tr>\n",
              "  </tbody>\n",
              "</table>\n",
              "</div>"
            ],
            "text/plain": [
              "       Images       songs         labels\n",
              "0  029351.npy  029351.npy  Western_numpy\n",
              "1  093716.npy  093716.npy  Western_numpy\n",
              "2  143217.npy  143217.npy  Western_numpy\n",
              "3  131912.npy  131912.npy  Western_numpy\n",
              "4  147059.npy  147059.npy  Western_numpy"
            ]
          },
          "metadata": {},
          "execution_count": 5
        }
      ]
    },
    {
      "cell_type": "code",
      "metadata": {
        "colab": {
          "base_uri": "https://localhost:8080/",
          "height": 142
        },
        "id": "ERDEfpHgbWUr",
        "outputId": "aa6cd720-e716-483c-a8c9-ff98de0ac0c8"
      },
      "source": [
        "data.groupby(\"labels\").count()"
      ],
      "execution_count": 6,
      "outputs": [
        {
          "output_type": "execute_result",
          "data": {
            "text/html": [
              "<div>\n",
              "<style scoped>\n",
              "    .dataframe tbody tr th:only-of-type {\n",
              "        vertical-align: middle;\n",
              "    }\n",
              "\n",
              "    .dataframe tbody tr th {\n",
              "        vertical-align: top;\n",
              "    }\n",
              "\n",
              "    .dataframe thead th {\n",
              "        text-align: right;\n",
              "    }\n",
              "</style>\n",
              "<table border=\"1\" class=\"dataframe\">\n",
              "  <thead>\n",
              "    <tr style=\"text-align: right;\">\n",
              "      <th></th>\n",
              "      <th>Images</th>\n",
              "      <th>songs</th>\n",
              "    </tr>\n",
              "    <tr>\n",
              "      <th>labels</th>\n",
              "      <th></th>\n",
              "      <th></th>\n",
              "    </tr>\n",
              "  </thead>\n",
              "  <tbody>\n",
              "    <tr>\n",
              "      <th>Indian_numpy</th>\n",
              "      <td>2008</td>\n",
              "      <td>2008</td>\n",
              "    </tr>\n",
              "    <tr>\n",
              "      <th>Western_numpy</th>\n",
              "      <td>2008</td>\n",
              "      <td>2008</td>\n",
              "    </tr>\n",
              "  </tbody>\n",
              "</table>\n",
              "</div>"
            ],
            "text/plain": [
              "               Images  songs\n",
              "labels                      \n",
              "Indian_numpy     2008   2008\n",
              "Western_numpy    2008   2008"
            ]
          },
          "metadata": {},
          "execution_count": 6
        }
      ]
    },
    {
      "cell_type": "code",
      "metadata": {
        "id": "Ip1OQ1WOYY-k"
      },
      "source": [
        "test_idx = random. randint(0,1000)\n",
        "# test_song = os.path.join(DATA_BASE_PATH, DATA_SONG_DIR, labels[test_idx], songs[test_idx])\n",
        "# print(test_song)\n",
        "# ipd.Audio(test_song) # load a local WAV file\n"
      ],
      "execution_count": null,
      "outputs": []
    },
    {
      "cell_type": "code",
      "metadata": {
        "colab": {
          "base_uri": "https://localhost:8080/",
          "height": 351
        },
        "id": "M6HnBomQaKKE",
        "outputId": "20ebb12d-e212-430b-8692-ce262f771e77"
      },
      "source": [
        "test_img_path = os.path.join(DATA_BASE_PATH, DATA_IMG_DIR, data.loc[test_idx, 'labels'], data.loc[test_idx, 'Images'])\n",
        "print(test_img_path)\n",
        "#ipd.Image(filename=test_img_path)\n",
        "# test_image = Image.open(test_img_path)\n",
        "# test_image = test_image.convert('RGB')\n",
        "# test_image\n",
        "\n",
        "numpy_arr = np.load(test_img_path)\n",
        "\n",
        "array = numpy_arr*-1\n",
        "print(array.max())\n",
        "array *= (255.0/array.max())\n",
        "array = 255 - array\n",
        "\n",
        "test_image = Image.fromarray(array)\n",
        "test_image = test_image.convert('L')\n",
        "test_image = test_image.resize((300,300))\n",
        "test_image\n",
        "\n"
      ],
      "execution_count": 16,
      "outputs": [
        {
          "output_type": "stream",
          "name": "stdout",
          "text": [
            "/content/gdrive/My Drive/Western_numpy/027855.npy\n",
            "66.531906\n"
          ]
        },
        {
          "output_type": "execute_result",
          "data": {
            "image/png": "[encoded data removed]",
            "text/plain": [
              "<PIL.Image.Image image mode=L size=300x300 at 0x7FC04C17AE90>"
            ]
          },
          "metadata": {},
          "execution_count": 16
        }
      ]
    },
    {
      "cell_type": "code",
      "metadata": {
        "colab": {
          "base_uri": "https://localhost:8080/",
          "height": 305
        },
        "id": "uj3QNTtlAgAw",
        "outputId": "142daa45-6e77-441b-c21f-d90b1463962d"
      },
      "source": [
        "test_img_path = '/content/gdrive/My Drive/Kaggle/GTZAN/Data/images_original/reggae/reggae00016.png'\n",
        "test_image = Image.open(test_img_path)\n",
        "test_image = test_image.convert('RGB').convert('L')\n",
        "test_image"
      ],
      "execution_count": 17,
      "outputs": [
        {
          "output_type": "execute_result",
          "data": {
            "image/png": "[encoded data removed]",
            "text/plain": [
              "<PIL.Image.Image image mode=L size=432x288 at 0x7FC04CF76710>"
            ]
          },
          "metadata": {},
          "execution_count": 17
        }
      ]
    },
    {
      "cell_type": "code",
      "metadata": {
        "id": "eKOJLiK8aQni"
      },
      "source": [
        "print(labels[test_idx])\n",
        "\n",
        "tensorTrans = transforms.ToTensor()\n",
        "test_image = tensorTrans(test_image)\n",
        "test_image.shape"
      ],
      "execution_count": null,
      "outputs": []
    },
    {
      "cell_type": "code",
      "metadata": {
        "colab": {
          "base_uri": "https://localhost:8080/",
          "height": 204
        },
        "id": "hdIZbFJMksHU",
        "outputId": "1bfe4bb8-c833-4bff-81ae-e949cbad2337"
      },
      "source": [
        "lb = LabelEncoder()\n",
        "data['encoded_labels'] = lb.fit_transform(data['labels'])\n",
        "data.head()"
      ],
      "execution_count": 19,
      "outputs": [
        {
          "output_type": "execute_result",
          "data": {
            "text/html": [
              "<div>\n",
              "<style scoped>\n",
              "    .dataframe tbody tr th:only-of-type {\n",
              "        vertical-align: middle;\n",
              "    }\n",
              "\n",
              "    .dataframe tbody tr th {\n",
              "        vertical-align: top;\n",
              "    }\n",
              "\n",
              "    .dataframe thead th {\n",
              "        text-align: right;\n",
              "    }\n",
              "</style>\n",
              "<table border=\"1\" class=\"dataframe\">\n",
              "  <thead>\n",
              "    <tr style=\"text-align: right;\">\n",
              "      <th></th>\n",
              "      <th>Images</th>\n",
              "      <th>songs</th>\n",
              "      <th>labels</th>\n",
              "      <th>encoded_labels</th>\n",
              "    </tr>\n",
              "  </thead>\n",
              "  <tbody>\n",
              "    <tr>\n",
              "      <th>0</th>\n",
              "      <td>029351.npy</td>\n",
              "      <td>029351.npy</td>\n",
              "      <td>Western_numpy</td>\n",
              "      <td>1</td>\n",
              "    </tr>\n",
              "    <tr>\n",
              "      <th>1</th>\n",
              "      <td>093716.npy</td>\n",
              "      <td>093716.npy</td>\n",
              "      <td>Western_numpy</td>\n",
              "      <td>1</td>\n",
              "    </tr>\n",
              "    <tr>\n",
              "      <th>2</th>\n",
              "      <td>143217.npy</td>\n",
              "      <td>143217.npy</td>\n",
              "      <td>Western_numpy</td>\n",
              "      <td>1</td>\n",
              "    </tr>\n",
              "    <tr>\n",
              "      <th>3</th>\n",
              "      <td>131912.npy</td>\n",
              "      <td>131912.npy</td>\n",
              "      <td>Western_numpy</td>\n",
              "      <td>1</td>\n",
              "    </tr>\n",
              "    <tr>\n",
              "      <th>4</th>\n",
              "      <td>147059.npy</td>\n",
              "      <td>147059.npy</td>\n",
              "      <td>Western_numpy</td>\n",
              "      <td>1</td>\n",
              "    </tr>\n",
              "  </tbody>\n",
              "</table>\n",
              "</div>"
            ],
            "text/plain": [
              "       Images       songs         labels  encoded_labels\n",
              "0  029351.npy  029351.npy  Western_numpy               1\n",
              "1  093716.npy  093716.npy  Western_numpy               1\n",
              "2  143217.npy  143217.npy  Western_numpy               1\n",
              "3  131912.npy  131912.npy  Western_numpy               1\n",
              "4  147059.npy  147059.npy  Western_numpy               1"
            ]
          },
          "metadata": {},
          "execution_count": 19
        }
      ]
    },
    {
      "cell_type": "code",
      "metadata": {
        "id": "CUxd6YHp5-7n"
      },
      "source": [
        "dataset_size = len(data)\n",
        "indices = list(range(dataset_size))\n",
        "split = int(np.floor(validation_split * dataset_size))\n",
        "if shuffle_dataset :\n",
        "    np.random.seed(random_seed)\n",
        "    np.random.shuffle(indices)\n",
        "train_indices, val_indices = indices[split:], indices[:split]"
      ],
      "execution_count": 20,
      "outputs": []
    },
    {
      "cell_type": "code",
      "metadata": {
        "id": "Tu6uGHVV4RaH"
      },
      "source": [
        "train_sampler = SubsetRandomSampler(train_indices)\n",
        "valid_sampler = SubsetRandomSampler(val_indices)"
      ],
      "execution_count": 21,
      "outputs": []
    },
    {
      "cell_type": "code",
      "metadata": {
        "id": "rGP82fNHg0uW"
      },
      "source": [
        "transform_normal = transforms.Compose(\n",
        "    [transforms.ToTensor(),\n",
        "     transforms.Normalize((0.5, 0.5, 0.5), (0.5, 0.5, 0.5))])\n",
        "\n",
        "transform = transforms.Compose(\n",
        "    [transforms.ToTensor()])"
      ],
      "execution_count": 22,
      "outputs": []
    },
    {
      "cell_type": "code",
      "metadata": {
        "id": "yrN_Gvkkg_5I"
      },
      "source": [
        "class IMG_Dataset(Dataset):\n",
        "    def __init__(self, img_data,img_path,transform=None):\n",
        "        self.img_path = img_path\n",
        "        self.transform = transform\n",
        "        self.img_data = img_data\n",
        "        \n",
        "    def __len__(self):\n",
        "        return len(self.img_data)\n",
        "    \n",
        "    def __getitem__(self, index):\n",
        "        img_name = os.path.join(self.img_path,self.img_data.loc[index, 'labels'],\n",
        "                                self.img_data.loc[index, 'Images'])\n",
        "        image = Image.open(img_name)\n",
        "        image = image.convert('RGB').convert('L')\n",
        "        #image = image.convert('RGB')\n",
        "        #image = image.resize((300,300))\n",
        "        label = torch.tensor(self.img_data.loc[index, 'encoded_labels'])\n",
        "        if self.transform is not None:\n",
        "            image = self.transform(image)\n",
        "        return image, label\n",
        "\n",
        "class MEL_Dataset(Dataset):\n",
        "    def __init__(self, img_data,img_path,transform=None):\n",
        "        self.img_path = img_path\n",
        "        self.transform = transform\n",
        "        self.img_data = img_data\n",
        "        \n",
        "    def __len__(self):\n",
        "        return len(self.img_data)\n",
        "    \n",
        "    def __getitem__(self, index):\n",
        "        img_name = os.path.join(self.img_path,self.img_data.loc[index, 'labels'],\n",
        "                                self.img_data.loc[index, 'Images'])\n",
        "        image = np.load(img_name)\n",
        "        #image = image.convert('RGB').convert('L')\n",
        "        #image = image.convert('RGB')\n",
        "        #image = image.resize((300,300))\n",
        "        label = torch.tensor(self.img_data.loc[index, 'encoded_labels'])\n",
        "        if self.transform is not None:\n",
        "            image = self.transform(image)\n",
        "        return image, label\n",
        "\n"
      ],
      "execution_count": 23,
      "outputs": []
    },
    {
      "cell_type": "code",
      "metadata": {
        "id": "Y4BFIETP8vvE"
      },
      "source": [
        "dataset = MEL_Dataset(data,os.path.join(DATA_BASE_PATH, DATA_IMG_DIR),transform)\n",
        "\n"
      ],
      "execution_count": 24,
      "outputs": []
    },
    {
      "cell_type": "code",
      "metadata": {
        "id": "Jh1DuM6M-T9k"
      },
      "source": [
        "train_loader = torch.utils.data.DataLoader(dataset, batch_size=batch_size, \n",
        "                                           sampler=train_sampler)\n",
        "validation_loader = torch.utils.data.DataLoader(dataset, batch_size=batch_size,\n",
        "                                                sampler=valid_sampler)"
      ],
      "execution_count": 25,
      "outputs": []
    },
    {
      "cell_type": "code",
      "metadata": {
        "colab": {
          "base_uri": "https://localhost:8080/",
          "height": 142
        },
        "id": "BqO70Zvk_jPn",
        "outputId": "14e65a36-9813-4140-bb5b-b4db346f87aa"
      },
      "source": [
        "data.groupby(by=['labels','encoded_labels']).count()"
      ],
      "execution_count": 26,
      "outputs": [
        {
          "output_type": "execute_result",
          "data": {
            "text/html": [
              "<div>\n",
              "<style scoped>\n",
              "    .dataframe tbody tr th:only-of-type {\n",
              "        vertical-align: middle;\n",
              "    }\n",
              "\n",
              "    .dataframe tbody tr th {\n",
              "        vertical-align: top;\n",
              "    }\n",
              "\n",
              "    .dataframe thead th {\n",
              "        text-align: right;\n",
              "    }\n",
              "</style>\n",
              "<table border=\"1\" class=\"dataframe\">\n",
              "  <thead>\n",
              "    <tr style=\"text-align: right;\">\n",
              "      <th></th>\n",
              "      <th></th>\n",
              "      <th>Images</th>\n",
              "      <th>songs</th>\n",
              "    </tr>\n",
              "    <tr>\n",
              "      <th>labels</th>\n",
              "      <th>encoded_labels</th>\n",
              "      <th></th>\n",
              "      <th></th>\n",
              "    </tr>\n",
              "  </thead>\n",
              "  <tbody>\n",
              "    <tr>\n",
              "      <th>Indian_numpy</th>\n",
              "      <th>0</th>\n",
              "      <td>2008</td>\n",
              "      <td>2008</td>\n",
              "    </tr>\n",
              "    <tr>\n",
              "      <th>Western_numpy</th>\n",
              "      <th>1</th>\n",
              "      <td>2008</td>\n",
              "      <td>2008</td>\n",
              "    </tr>\n",
              "  </tbody>\n",
              "</table>\n",
              "</div>"
            ],
            "text/plain": [
              "                              Images  songs\n",
              "labels        encoded_labels               \n",
              "Indian_numpy  0                 2008   2008\n",
              "Western_numpy 1                 2008   2008"
            ]
          },
          "metadata": {},
          "execution_count": 26
        }
      ]
    },
    {
      "cell_type": "code",
      "metadata": {
        "id": "zt0fvpWuCLQG"
      },
      "source": [
        "def img_display(img):\n",
        "    #img = img / 2 + 0.5     # unnormalize\n",
        "    npimg = img.numpy()\n",
        "    npimg = np.transpose(npimg, (1, 2, 0))\n",
        "    return npimg.squeeze()\n",
        "\n",
        "def mel_display(S_DB):\n",
        "    print(S_DB.shape)\n",
        "    S_DB = S_DB.numpy()\n",
        "    array = S_DB*-1\n",
        "    print(array.max())\n",
        "    array *= (255.0/array.max())\n",
        "    array = 255 - array\n",
        "\n",
        "    array = np.transpose(array, (1, 2, 0))\n",
        "    return array.squeeze()"
      ],
      "execution_count": 33,
      "outputs": []
    },
    {
      "cell_type": "code",
      "metadata": {
        "colab": {
          "base_uri": "https://localhost:8080/",
          "height": 967
        },
        "id": "fv4aFL9d_Vrc",
        "outputId": "769be976-e7dd-456d-cf29-f5398ff7f223"
      },
      "source": [
        "# get some random training images\n",
        "dataiter = iter(train_loader)\n",
        "images, labels = dataiter.next()\n",
        "arthopod_types = {0: 'Indian_numpy', 1: 'Western_numpy', 2: 'country', 3: 'disco', 4: 'hiphop', 5: 'jazz', 6: 'metal', 7: 'pop', 8: 'reggae', 9: 'rock'}\n",
        "# Viewing data examples used for training\n",
        "fig, axis = plt.subplots(3, 5, figsize=(15, 10))\n",
        "for i, ax in enumerate(axis.flat):\n",
        "    with torch.no_grad():\n",
        "        image, label = images[i], labels[i]\n",
        "        ax.imshow(mel_display(image)) # add image\n",
        "        ax.set(title = f\"{arthopod_types[label.item()]}\") # add label"
      ],
      "execution_count": 34,
      "outputs": [
        {
          "output_type": "stream",
          "name": "stdout",
          "text": [
            "torch.Size([1, 26, 400])\n",
            "67.537994\n",
            "torch.Size([1, 26, 400])\n",
            "58.63179\n",
            "torch.Size([1, 26, 400])\n",
            "80.0\n",
            "torch.Size([1, 26, 400])\n",
            "52.46012\n",
            "torch.Size([1, 26, 400])\n",
            "69.964005\n",
            "torch.Size([1, 26, 400])\n",
            "69.07929\n",
            "torch.Size([1, 26, 400])\n",
            "59.41851\n",
            "torch.Size([1, 26, 400])\n",
            "60.44189\n",
            "torch.Size([1, 26, 400])\n",
            "76.99865\n",
            "torch.Size([1, 26, 400])\n",
            "65.05542\n",
            "torch.Size([1, 26, 400])\n",
            "54.35418\n",
            "torch.Size([1, 26, 400])\n",
            "66.62348\n",
            "torch.Size([1, 26, 400])\n",
            "65.39432\n",
            "torch.Size([1, 26, 400])\n",
            "67.34591\n",
            "torch.Size([1, 26, 400])\n",
            "40.737846\n"
          ]
        },
        {
          "output_type": "display_data",
          "data": {
            "image/png": "[encoded data removed]",
            "text/plain": [
              "<Figure size 1080x720 with 15 Axes>"
            ]
          },
          "metadata": {
            "needs_background": "light"
          }
        }
      ]
    },
    {
      "cell_type": "code",
      "metadata": {
        "id": "6LTCAzSsCus-"
      },
      "source": [
        "class SimpleCNNModel(nn.Module):\n",
        "    def __init__(self):\n",
        "        super(SimpleCNNModel, self).__init__()\n",
        "        # 3 input image channel, 16 output channels, 3x3 square convolution kernel\n",
        "        self.conv1 = nn.Conv2d(3,16,kernel_size=3,stride=2,padding=1)\n",
        "        self.conv2 = nn.Conv2d(16, 32,kernel_size=3,stride=2, padding=1)\n",
        "        self.conv3 = nn.Conv2d(32, 64,kernel_size=3,stride=2, padding=1)\n",
        "        self.conv4 = nn.Conv2d(64, 64,kernel_size=3,stride=2, padding=1)\n",
        "        self.pool = nn.MaxPool2d(2, 2)\n",
        "        self.dropout = nn.Dropout2d(0.4)\n",
        "        self.batchnorm1 = nn.BatchNorm2d(16)\n",
        "        self.batchnorm2 = nn.BatchNorm2d(32)\n",
        "        self.batchnorm3 = nn.BatchNorm2d(64)\n",
        "        \n",
        "        #self.fc1 = nn.Linear(64*5*5,512 )\n",
        "        self.fc1 = nn.Linear(64*5*7,512 )\n",
        "        \n",
        "        self.fc2 = nn.Linear(512, 256)\n",
        "        self.fc3 = nn.Linear(256, 10)\n",
        "        \n",
        "    def forward(self, x):\n",
        "        x = self.batchnorm1(F.relu(self.conv1(x)))\n",
        "        x = self.batchnorm2(F.relu(self.conv2(x)))\n",
        "        x = self.dropout(self.batchnorm2(self.pool(x)))\n",
        "        x = self.batchnorm3(self.pool(F.relu(self.conv3(x))))\n",
        "        x = self.dropout(self.conv4(x))\n",
        "        #x = x.view(-1, 64*5*5) # Flatten layer\n",
        "        x = x.view(-1, 64*5*7) # Flatten layer\n",
        "        x = self.dropout(self.fc1(x))\n",
        "        x = self.dropout(self.fc2(x))\n",
        "        x = F.log_softmax(self.fc3(x),dim = 1)\n",
        "        return x"
      ],
      "execution_count": 35,
      "outputs": []
    },
    {
      "cell_type": "code",
      "metadata": {
        "id": "PypjxfSYAwIS"
      },
      "source": [
        "class SimpleCNNModelOneChannel(nn.Module):\n",
        "    def __init__(self):\n",
        "        super(SimpleCNNModelOneChannel, self).__init__()\n",
        "        # 3 input image channel, 16 output channels, 3x3 square convolution kernel\n",
        "        self.conv1 = nn.Conv2d(1,16,kernel_size=3,stride=2,padding=1)\n",
        "        self.conv2 = nn.Conv2d(16, 32,kernel_size=3,stride=2, padding=1)\n",
        "        self.conv3 = nn.Conv2d(32, 64,kernel_size=3,stride=2, padding=1)\n",
        "        self.conv4 = nn.Conv2d(64, 64,kernel_size=3,stride=2, padding=1)\n",
        "        self.pool = nn.MaxPool2d(2, 2)\n",
        "        self.dropout = nn.Dropout2d(0.4)\n",
        "        self.batchnorm1 = nn.BatchNorm2d(16)\n",
        "        self.batchnorm2 = nn.BatchNorm2d(32)\n",
        "        self.batchnorm3 = nn.BatchNorm2d(64)\n",
        "        \n",
        "        #self.fc1 = nn.Linear(64*5*5,512 )\n",
        "        self.fc1 = nn.Linear(384,512 )\n",
        "        \n",
        "        self.fc2 = nn.Linear(512, 256)\n",
        "        self.fc3 = nn.Linear(256, 10)\n",
        "        \n",
        "    def forward(self, x):\n",
        "        x = self.batchnorm1(F.relu(self.conv1(x)))\n",
        "        x = self.batchnorm2(F.relu(self.conv2(x)))\n",
        "        x = self.dropout(self.batchnorm2(self.pool(x)))\n",
        "        x = self.batchnorm3(self.pool(F.relu(self.conv3(x))))\n",
        "        x = self.dropout(self.conv4(x))\n",
        "        #x = x.view(-1, 64*5*5) # Flatten layer\n",
        "        x = x.view(-1, 384) # Flatten layer\n",
        "        x = self.dropout(self.fc1(x))\n",
        "        x = self.dropout(self.fc2(x))\n",
        "        x = F.log_softmax(self.fc3(x),dim = 1)\n",
        "        return x"
      ],
      "execution_count": 40,
      "outputs": []
    },
    {
      "cell_type": "code",
      "metadata": {
        "colab": {
          "base_uri": "https://localhost:8080/"
        },
        "id": "Qs1Up1giC2ZA",
        "outputId": "629096f1-86f3-46b1-9142-209cf12ccebf"
      },
      "source": [
        "#model = SimpleCNNModel() # On CPU\n",
        "#model = SimpleCNNModel().to(device)  # On GPU\n",
        "model = SimpleCNNModelOneChannel().to(device)  # On GPU\n",
        "print(model)\n",
        "optimizer = optim.Adam(model.parameters(), lr=0.0001)"
      ],
      "execution_count": 41,
      "outputs": [
        {
          "output_type": "stream",
          "name": "stdout",
          "text": [
            "SimpleCNNModelOneChannel(\n",
            "  (conv1): Conv2d(1, 16, kernel_size=(3, 3), stride=(2, 2), padding=(1, 1))\n",
            "  (conv2): Conv2d(16, 32, kernel_size=(3, 3), stride=(2, 2), padding=(1, 1))\n",
            "  (conv3): Conv2d(32, 64, kernel_size=(3, 3), stride=(2, 2), padding=(1, 1))\n",
            "  (conv4): Conv2d(64, 64, kernel_size=(3, 3), stride=(2, 2), padding=(1, 1))\n",
            "  (pool): MaxPool2d(kernel_size=2, stride=2, padding=0, dilation=1, ceil_mode=False)\n",
            "  (dropout): Dropout2d(p=0.4, inplace=False)\n",
            "  (batchnorm1): BatchNorm2d(16, eps=1e-05, momentum=0.1, affine=True, track_running_stats=True)\n",
            "  (batchnorm2): BatchNorm2d(32, eps=1e-05, momentum=0.1, affine=True, track_running_stats=True)\n",
            "  (batchnorm3): BatchNorm2d(64, eps=1e-05, momentum=0.1, affine=True, track_running_stats=True)\n",
            "  (fc1): Linear(in_features=384, out_features=512, bias=True)\n",
            "  (fc2): Linear(in_features=512, out_features=256, bias=True)\n",
            "  (fc3): Linear(in_features=256, out_features=10, bias=True)\n",
            ")\n"
          ]
        }
      ]
    },
    {
      "cell_type": "code",
      "metadata": {
        "id": "ZUT7elmXDG0a"
      },
      "source": [
        "def accuracy(out, labels):\n",
        "    _,pred = torch.max(out, dim=1)\n",
        "    return torch.sum(pred==labels).item()"
      ],
      "execution_count": 38,
      "outputs": []
    },
    {
      "cell_type": "code",
      "metadata": {
        "id": "U148h9G9DSZN"
      },
      "source": [
        "valid_loss_min = np.Inf\n",
        "val_loss = []\n",
        "val_acc = []\n",
        "train_loss = []\n",
        "train_acc = []\n",
        "total_step = len(train_loader)\n",
        "for epoch in range(1, n_epochs+1):\n",
        "    running_loss = 0.0\n",
        "    # scheduler.step(epoch)\n",
        "    correct = 0\n",
        "    total=0\n",
        "    print(f'Epoch {epoch}\\n')\n",
        "    for batch_idx, (data_, target_) in enumerate(train_loader):\n",
        "        data_, target_ = data_.to(device), target_.to(device)# on GPU\n",
        "        # zero the parameter gradients\n",
        "        optimizer.zero_grad()\n",
        "        # forward + backward + optimize\n",
        "        outputs = model(data_)\n",
        "        loss = criterion(outputs, target_)\n",
        "        loss.backward()\n",
        "        optimizer.step()\n",
        "        # print statistics\n",
        "        running_loss += loss.item()\n",
        "        _,pred = torch.max(outputs, dim=1)\n",
        "        correct += torch.sum(pred==target_).item()\n",
        "        total += target_.size(0)\n",
        "        if (batch_idx) % print_every == 0:\n",
        "            print ('Epoch [{}/{}], Step [{}/{}], Loss: {:.4f}' \n",
        "                   .format(epoch, n_epochs, batch_idx, total_step, loss.item()))\n",
        "    train_acc.append(100 * correct / total)\n",
        "    train_loss.append(running_loss/total_step)\n",
        "    print(f'\\nepoch: {epoch}, train loss: {np.mean(train_loss):.4f}, train acc: {(100 * correct / total):.4f}')\n",
        "    batch_loss = 0\n",
        "    total_t=0\n",
        "    correct_t=0\n",
        "    with torch.no_grad():\n",
        "        model.eval()\n",
        "        for data_t, target_t in (validation_loader):\n",
        "            data_t, target_t = data_t.to(device), target_t.to(device)# on GPU\n",
        "            outputs_t = model(data_t)\n",
        "            loss_t = criterion(outputs_t, target_t)\n",
        "            batch_loss += loss_t.item()\n",
        "            _,pred_t = torch.max(outputs_t, dim=1)\n",
        "            correct_t += torch.sum(pred_t==target_t).item()\n",
        "            total_t += target_t.size(0)\n",
        "        val_acc.append(100 * correct_t / total_t)\n",
        "        val_loss.append(batch_loss/len(validation_loader))\n",
        "        network_learned = batch_loss < valid_loss_min\n",
        "        print(f'validation loss: {np.mean(val_loss):.4f}, validation acc: {(100 * correct_t / total_t):.4f}\\n')\n",
        "        # Saving the best weight \n",
        "        if network_learned:\n",
        "            valid_loss_min = batch_loss\n",
        "            torch.save(model.state_dict(), os.path.join(BASE_PATH, 'model_classification_tutorial.pt'))\n",
        "            print('Detected network improvement, saving current model')\n",
        "        \n",
        "        fig = plt.figure(figsize=(20,10))\n",
        "        plt.title(\"Train - Validation Loss\")\n",
        "        plt.plot( train_loss, label='train')\n",
        "        plt.plot( val_loss, label='validation')\n",
        "        plt.xlabel('num_epochs', fontsize=12)\n",
        "        plt.ylabel('loss', fontsize=12)\n",
        "        plt.legend(loc='best')\n",
        "        plt.savefig(os.path.join(BASE_PATH, 'loss_plot.png'), bbox_inches='tight')\n",
        "\n",
        "        fig = plt.figure(figsize=(20,10))\n",
        "        plt.title(\"Train - Validation Accuracy\")\n",
        "        plt.plot(train_acc, label='train')\n",
        "        plt.plot(val_acc, label='validation')\n",
        "        plt.xlabel('num_epochs', fontsize=12)\n",
        "        plt.ylabel('accuracy', fontsize=12)\n",
        "        plt.legend(loc='best')\n",
        "        plt.savefig(os.path.join(BASE_PATH, 'accuracy_plot.png'), bbox_inches='tight')\n",
        "\n",
        "    model.train()"
      ],
      "execution_count": null,
      "outputs": []
    },
    {
      "cell_type": "code",
      "metadata": {
        "id": "4S8xLgNnHZ4t"
      },
      "source": [
        "model.load_state_dict(torch.load(os.path.join(BASE_PATH, 'model_classification_tutorial.pt')))"
      ],
      "execution_count": null,
      "outputs": []
    },
    {
      "cell_type": "code",
      "metadata": {
        "id": "tUMrGyDmHV5L"
      },
      "source": [
        "images, labels = dataiter.next()\n",
        "arthopod_types = {0: 'blues', 1: 'classical', 2: 'country', 3: 'disco', 4: 'hiphop', 5: 'jazz', 6: 'metal', 7: 'pop', 8: 'reggae', 9: 'rock'}\n",
        "# Viewing data examples used for training\n",
        "fig, axis = plt.subplots(3, 5, figsize=(15, 10))\n",
        "with torch.no_grad():\n",
        "    model.eval()\n",
        "    for ax, image, label in zip(axis.flat,images, labels):\n",
        "        ax.imshow(img_display(image)) # add image\n",
        "        image_tensor = image.unsqueeze_(0)\n",
        "        output_ = model(image_tensor)\n",
        "        output_ = output_.argmax()\n",
        "        k = output_.item()==label.item()\n",
        "        ax.set_title(str(arthopod_types[label.item()])+\":\" +str(k)) # add label"
      ],
      "execution_count": null,
      "outputs": []
    }
  ]
}